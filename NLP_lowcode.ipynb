{
  "nbformat": 4,
  "nbformat_minor": 0,
  "metadata": {
    "colab": {
      "name": "NLP-lowcode.ipynb",
      "provenance": [],
      "authorship_tag": "ABX9TyOjOrXmr7xq2TDgJmBdVkJZ",
      "include_colab_link": true
    },
    "kernelspec": {
      "name": "python3",
      "display_name": "Python 3"
    },
    "language_info": {
      "name": "python"
    }
  },
  "cells": [
    {
      "cell_type": "markdown",
      "metadata": {
        "id": "view-in-github",
        "colab_type": "text"
      },
      "source": [
        "<a href=\"https://colab.research.google.com/github/sarwaridas/TheCountOfMonteCristo_NLP/blob/main/NLP_lowcode.ipynb\" target=\"_parent\"><img src=\"https://colab.research.google.com/assets/colab-badge.svg\" alt=\"Open In Colab\"/></a>"
      ]
    },
    {
      "cell_type": "code",
      "metadata": {
        "id": "Wyzoht4T4z9i"
      },
      "source": [
        "import nltk.corpus\n",
        "import numpy as np\n",
        "\n",
        "#text = nltk.corpus.gutenberg.raw(\"austen-sense.txt\")"
      ],
      "execution_count": 1,
      "outputs": []
    },
    {
      "cell_type": "code",
      "metadata": {
        "colab": {
          "base_uri": "https://localhost:8080/"
        },
        "id": "Ze7M-Lc053FV",
        "outputId": "5158b67c-8d58-4a0d-a7a9-39fc1c3d3b27"
      },
      "source": [
        "nltk.download('gutenberg')\n",
        "nltk.corpus.gutenberg.fileids()"
      ],
      "execution_count": 3,
      "outputs": [
        {
          "output_type": "stream",
          "name": "stdout",
          "text": [
            "[nltk_data] Downloading package gutenberg to /root/nltk_data...\n",
            "[nltk_data]   Unzipping corpora/gutenberg.zip.\n"
          ]
        },
        {
          "output_type": "execute_result",
          "data": {
            "text/plain": [
              "['austen-emma.txt',\n",
              " 'austen-persuasion.txt',\n",
              " 'austen-sense.txt',\n",
              " 'bible-kjv.txt',\n",
              " 'blake-poems.txt',\n",
              " 'bryant-stories.txt',\n",
              " 'burgess-busterbrown.txt',\n",
              " 'carroll-alice.txt',\n",
              " 'chesterton-ball.txt',\n",
              " 'chesterton-brown.txt',\n",
              " 'chesterton-thursday.txt',\n",
              " 'edgeworth-parents.txt',\n",
              " 'melville-moby_dick.txt',\n",
              " 'milton-paradise.txt',\n",
              " 'shakespeare-caesar.txt',\n",
              " 'shakespeare-hamlet.txt',\n",
              " 'shakespeare-macbeth.txt',\n",
              " 'whitman-leaves.txt']"
            ]
          },
          "metadata": {},
          "execution_count": 3
        }
      ]
    },
    {
      "cell_type": "markdown",
      "metadata": {
        "id": "fObHbQVm7TqX"
      },
      "source": [
        "Downloading the corpus..."
      ]
    },
    {
      "cell_type": "code",
      "metadata": {
        "colab": {
          "base_uri": "https://localhost:8080/"
        },
        "id": "rebfo0FV7V_O",
        "outputId": "1e7ff5f4-a751-4c9a-95b7-ad10d593d977"
      },
      "source": [
        "!wget https://raw.githubusercontent.com/sarwaridas/TheCountOfMonteCristo_NLP/main/monte-cristo.txt"
      ],
      "execution_count": 4,
      "outputs": [
        {
          "output_type": "stream",
          "name": "stdout",
          "text": [
            "--2021-11-01 19:15:25--  https://raw.githubusercontent.com/sarwaridas/TheCountOfMonteCristo_NLP/main/monte-cristo.txt\n",
            "Resolving raw.githubusercontent.com (raw.githubusercontent.com)... 185.199.109.133, 185.199.108.133, 185.199.111.133, ...\n",
            "Connecting to raw.githubusercontent.com (raw.githubusercontent.com)|185.199.109.133|:443... connected.\n",
            "HTTP request sent, awaiting response... 200 OK\n",
            "Length: 2705942 (2.6M) [text/plain]\n",
            "Saving to: ‘monte-cristo.txt’\n",
            "\n",
            "monte-cristo.txt    100%[===================>]   2.58M  --.-KB/s    in 0.04s   \n",
            "\n",
            "2021-11-01 19:15:25 (59.0 MB/s) - ‘monte-cristo.txt’ saved [2705942/2705942]\n",
            "\n"
          ]
        }
      ]
    },
    {
      "cell_type": "code",
      "metadata": {
        "colab": {
          "base_uri": "https://localhost:8080/"
        },
        "id": "7YjaX0yA7YAx",
        "outputId": "78b25211-e807-4a1c-eb6f-2af1a3466527"
      },
      "source": [
        "!tail monte-cristo.txt"
      ],
      "execution_count": 6,
      "outputs": [
        {
          "output_type": "stream",
          "name": "stdout",
          "text": [
            "[27] Guilbert de Pixérécourt, French dramatist (1773-1844).\n",
            "\n",
            "[28] Gaspard Puget, the sculptor-architect, was born at Marseilles in\n",
            "1615.\n",
            "\n",
            "[29] The Carolina—not Virginia—jessamine, _gelsemium sempervirens_\n",
            "(properly speaking not a jessamine at all) has yellow blossoms. The\n",
            "reference is no doubt to the _Wistaria frutescens_.—Ed.\n",
            "\n",
            "[30] The miser in Molière’s comedy of _L’Avare_.—Ed.\n"
          ]
        }
      ]
    },
    {
      "cell_type": "code",
      "metadata": {
        "id": "4xz-nzFW7gvJ"
      },
      "source": [
        ""
      ],
      "execution_count": null,
      "outputs": []
    }
  ]
}